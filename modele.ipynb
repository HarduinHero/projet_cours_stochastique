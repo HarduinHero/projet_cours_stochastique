{
 "cells": [
  {
   "cell_type": "code",
   "execution_count": 1,
   "metadata": {},
   "outputs": [],
   "source": [
    "import pandas as pd\n",
    "import os\n",
    "from sklearn.model_selection import train_test_split\n",
    "\n",
    "ot_odr_filename = os.path.join(\".\", \"OT_ODR.csv.bz2\")\n",
    "ot_odr_df = pd.read_csv(ot_odr_filename, compression=\"bz2\", sep=\";\")\n",
    "\n",
    "equipements_filename = os.path.join(\".\", 'EQUIPEMENTS.csv')\n",
    "equipements_df = pd.read_csv(equipements_filename, sep=\";\")"
   ]
  },
  {
   "cell_type": "code",
   "execution_count": 2,
   "metadata": {},
   "outputs": [
    {
     "name": "stdout",
     "output_type": "stream",
     "text": [
      "<class 'pandas.core.frame.DataFrame'>\n",
      "RangeIndex: 506558 entries, 0 to 506557\n",
      "Data columns (total 15 columns):\n",
      " #   Column         Non-Null Count   Dtype  \n",
      "---  ------         --------------   -----  \n",
      " 0   OT_ID          506558 non-null  object \n",
      " 1   ODR_ID         506558 non-null  object \n",
      " 2   ODR_LIBELLE    506558 non-null  object \n",
      " 3   TYPE_TRAVAIL   506558 non-null  object \n",
      " 4   DUREE_TRAVAIL  506558 non-null  float64\n",
      " 5   SYSTEM_N1      506558 non-null  object \n",
      " 6   SYSTEM_N2      506558 non-null  object \n",
      " 7   SYSTEM_N3      506558 non-null  object \n",
      " 8   EQU_ID         506558 non-null  object \n",
      " 9   DATE_OT        506558 non-null  object \n",
      " 10  KILOMETRAGE    506557 non-null  float64\n",
      " 11  SIG_ORGANE     506558 non-null  object \n",
      " 12  SIG_CONTEXTE   506558 non-null  object \n",
      " 13  SIG_OBS        506558 non-null  object \n",
      " 14  LIGNE          506558 non-null  object \n",
      "dtypes: float64(2), object(13)\n",
      "memory usage: 58.0+ MB\n",
      "<class 'pandas.core.frame.DataFrame'>\n",
      "RangeIndex: 506558 entries, 0 to 506557\n",
      "Data columns (total 15 columns):\n",
      " #   Column         Non-Null Count   Dtype   \n",
      "---  ------         --------------   -----   \n",
      " 0   OT_ID          506558 non-null  object  \n",
      " 1   ODR_ID         506558 non-null  object  \n",
      " 2   ODR_LIBELLE    506558 non-null  category\n",
      " 3   TYPE_TRAVAIL   506558 non-null  category\n",
      " 4   DUREE_TRAVAIL  506558 non-null  float64 \n",
      " 5   SYSTEM_N1      506558 non-null  category\n",
      " 6   SYSTEM_N2      506558 non-null  category\n",
      " 7   SYSTEM_N3      506558 non-null  category\n",
      " 8   EQU_ID         506558 non-null  object  \n",
      " 9   DATE_OT        506558 non-null  object  \n",
      " 10  KILOMETRAGE    506557 non-null  float64 \n",
      " 11  SIG_ORGANE     506558 non-null  category\n",
      " 12  SIG_CONTEXTE   506558 non-null  category\n",
      " 13  SIG_OBS        506558 non-null  category\n",
      " 14  LIGNE          506558 non-null  category\n",
      "dtypes: category(9), float64(2), object(4)\n",
      "memory usage: 29.7+ MB\n"
     ]
    }
   ],
   "source": [
    "var_cat = [\n",
    "    'ODR_LIBELLE',\n",
    "    'TYPE_TRAVAIL',\n",
    "    'SYSTEM_N1',\n",
    "    'SYSTEM_N2',\n",
    "    'SYSTEM_N3',\n",
    "    'SIG_ORGANE',\n",
    "    'SIG_CONTEXTE',\n",
    "    'SIG_OBS',\n",
    "    'LIGNE'\n",
    "]\n",
    "ot_odr_df.info()\n",
    "for var in var_cat:\n",
    "    ot_odr_df[var] = ot_odr_df[var].astype('category')\n",
    "\n",
    "ot_odr_df.info()"
   ]
  },
  {
   "cell_type": "code",
   "execution_count": null,
   "metadata": {},
   "outputs": [],
   "source": [
    "#Répartition des données entre test et entrainement \n",
    "train_df, test_df = train_test_split(ot_odr_df, test_size=0.2, random_state=42)"
   ]
  },
  {
   "cell_type": "code",
   "execution_count": 3,
   "metadata": {},
   "outputs": [],
   "source": [
    "import pyAgrum as gum\n",
    "import pyAgrum.lib.notebook as gnb"
   ]
  },
  {
   "cell_type": "code",
   "execution_count": 4,
   "metadata": {},
   "outputs": [
    {
     "data": {
      "text/html": [
       "<svg xmlns=\"http://www.w3.org/2000/svg\" xmlns:xlink=\"http://www.w3.org/1999/xlink\" width=\"260pt\" height=\"116pt\" viewBox=\"0.00 0.00 260.03 116.00\">\n",
       "<g id=\"graph0\" class=\"graph\" transform=\"scale(1 1) rotate(0) translate(4 112)\">\n",
       "<title>G</title>\n",
       "<!-- SYSTEM_N2 -->\n",
       "<g id=\"node1\" class=\"node\">\n",
       "<title>SYSTEM_N2</title>\n",
       "<g id=\"a_node1\"><a xlink:title=\"(0) SYSTEM_N2\">\n",
       "<ellipse fill=\"#404040\" stroke=\"#4a4a4a\" cx=\"115.28\" cy=\"-90\" rx=\"63.63\" ry=\"18\"/>\n",
       "<text text-anchor=\"middle\" x=\"115.28\" y=\"-84.95\" font-family=\"Times,serif\" font-size=\"14.00\" fill=\"white\">SYSTEM_N2</text>\n",
       "</a>\n",
       "</g>\n",
       "</g>\n",
       "<!-- SIG_OBS -->\n",
       "<g id=\"node2\" class=\"node\">\n",
       "<title>SIG_OBS</title>\n",
       "<g id=\"a_node2\"><a xlink:title=\"(2) SIG_OBS\">\n",
       "<ellipse fill=\"#404040\" stroke=\"#4a4a4a\" cx=\"48.28\" cy=\"-18\" rx=\"48.28\" ry=\"18\"/>\n",
       "<text text-anchor=\"middle\" x=\"48.28\" y=\"-12.95\" font-family=\"Times,serif\" font-size=\"14.00\" fill=\"white\">SIG_OBS</text>\n",
       "</a>\n",
       "</g>\n",
       "</g>\n",
       "<!-- SYSTEM_N2&#45;&gt;SIG_OBS -->\n",
       "<g id=\"edge2\" class=\"edge\">\n",
       "<title>SYSTEM_N2-&gt;SIG_OBS</title>\n",
       "<g id=\"a_edge2\"><a xlink:title=\"0 → 2\">\n",
       "<path fill=\"none\" stroke=\"#4a4a4a\" d=\"M99.4,-72.41C91.23,-63.87 81.09,-53.28 72.01,-43.79\"/>\n",
       "<polygon fill=\"#4a4a4a\" stroke=\"#4a4a4a\" points=\"74.53,-41.37 65.09,-36.56 69.48,-46.21 74.53,-41.37\"/>\n",
       "</a>\n",
       "</g>\n",
       "</g>\n",
       "<!-- SIG_ORGANE -->\n",
       "<g id=\"node3\" class=\"node\">\n",
       "<title>SIG_ORGANE</title>\n",
       "<g id=\"a_node3\"><a xlink:title=\"(1) SIG_ORGANE\">\n",
       "<ellipse fill=\"#404040\" stroke=\"#4a4a4a\" cx=\"183.28\" cy=\"-18\" rx=\"68.75\" ry=\"18\"/>\n",
       "<text text-anchor=\"middle\" x=\"183.28\" y=\"-12.95\" font-family=\"Times,serif\" font-size=\"14.00\" fill=\"white\">SIG_ORGANE</text>\n",
       "</a>\n",
       "</g>\n",
       "</g>\n",
       "<!-- SYSTEM_N2&#45;&gt;SIG_ORGANE -->\n",
       "<g id=\"edge1\" class=\"edge\">\n",
       "<title>SYSTEM_N2-&gt;SIG_ORGANE</title>\n",
       "<g id=\"a_edge1\"><a xlink:title=\"0 → 1\">\n",
       "<path fill=\"none\" stroke=\"#4a4a4a\" d=\"M131.4,-72.41C139.57,-63.99 149.68,-53.58 158.8,-44.2\"/>\n",
       "<polygon fill=\"#4a4a4a\" stroke=\"#4a4a4a\" points=\"161.3,-46.65 165.75,-37.04 156.28,-41.78 161.3,-46.65\"/>\n",
       "</a>\n",
       "</g>\n",
       "</g>\n",
       "</g>\n",
       "</svg>"
      ],
      "text/plain": [
       "(pyAgrum.BayesNet<double>@0x1432a5a00) BN{nodes: 3, arcs: 2, domainSize: 307980, dim: 7829, mem: 61Ko 896o}"
      ]
     },
     "execution_count": 4,
     "metadata": {},
     "output_type": "execute_result"
    }
   ],
   "source": [
    "var_to_model = [\n",
    "    'SYSTEM_N2',\n",
    "    'SIG_ORGANE',\n",
    "    'SIG_OBS'\n",
    "]\n",
    "var_bn = {}\n",
    "for var in var_to_model:\n",
    "    nb_values = len(train_df[var].cat.categories)\n",
    "    var_bn[var] = gum.LabelizedVariable(var, var, nb_values)\n",
    "\n",
    "# renseigne les modalités des variables pour être fidèle à celles des données.\n",
    "for var in var_bn:\n",
    "    for i, modalite in enumerate(ot_odr_df[var].cat.categories):\n",
    "        var_bn[var].changeLabel(i, modalite)\n",
    "\n",
    "# création du réseau bayésien et ajout des variables sélectionnées\n",
    "bn_etud = gum.BayesNet(\"modèle simple\")\n",
    "\n",
    "for var in var_bn.values():\n",
    "    bn_etud.add(var)\n",
    "\n",
    "# Création de la structure\n",
    "bn_etud.addArc(\"SYSTEM_N2\", \"SIG_OBS\")\n",
    "bn_etud.addArc(\"SYSTEM_N2\", \"SIG_ORGANE\")\n",
    "\n",
    "\n",
    "bn_etud"
   ]
  }
 ],
 "metadata": {
  "kernelspec": {
   "display_name": "projet",
   "language": "python",
   "name": "python3"
  },
  "language_info": {
   "codemirror_mode": {
    "name": "ipython",
    "version": 3
   },
   "file_extension": ".py",
   "mimetype": "text/x-python",
   "name": "python",
   "nbconvert_exporter": "python",
   "pygments_lexer": "ipython3",
   "version": "3.9.6"
  },
  "orig_nbformat": 4,
  "vscode": {
   "interpreter": {
    "hash": "f40dcc1bf655bcbdcbc22101e014a611c471d4b517e71358bbb690060e27e1b0"
   }
  }
 },
 "nbformat": 4,
 "nbformat_minor": 2
}
