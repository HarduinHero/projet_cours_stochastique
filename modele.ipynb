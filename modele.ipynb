{
 "cells": [
  {
   "cell_type": "code",
   "execution_count": 17,
   "metadata": {},
   "outputs": [
    {
     "name": "stderr",
     "output_type": "stream",
     "text": [
      "/var/folders/0n/w3wkfc7s0l3_nwgc61jgkn_h0000gn/T/ipykernel_95304/3291992501.py:8: FutureWarning: A value is trying to be set on a copy of a DataFrame or Series through chained assignment using an inplace method.\n",
      "The behavior will change in pandas 3.0. This inplace method will never work because the intermediate object on which we are setting values always behaves as a copy.\n",
      "\n",
      "For example, when doing 'df[col].method(value, inplace=True)', try using 'df.method({col: value}, inplace=True)' or df[col] = df[col].method(value) instead, to perform the operation inplace on the original object.\n",
      "\n",
      "\n",
      "  ot_odr_df[\"SYSTEM_N2\"].replace(\"-\", \"NONE\", inplace=True)\n"
     ]
    }
   ],
   "source": [
    "import pandas as pd\n",
    "import os\n",
    "from sklearn.model_selection import train_test_split\n",
    "\n",
    "ot_odr_filename = os.path.join(\".\", \"OT_ODR.csv.bz2\")\n",
    "ot_odr_df = pd.read_csv(ot_odr_filename, compression=\"bz2\", sep=\";\")\n",
    "\n",
    "ot_odr_df[\"SYSTEM_N2\"].replace(\"-\", \"NONE\", inplace=True)\n",
    "\n",
    "equipements_filename = os.path.join(\".\", 'EQUIPEMENTS.csv')\n",
    "equipements_df = pd.read_csv(equipements_filename, sep=\";\")\n"
   ]
  },
  {
   "cell_type": "code",
   "execution_count": 18,
   "metadata": {},
   "outputs": [],
   "source": [
    "#Séparation des données\n",
    "train_df, test_df = train_test_split(ot_odr_df, test_size=0.2, random_state=42)"
   ]
  },
  {
   "cell_type": "code",
   "execution_count": 19,
   "metadata": {},
   "outputs": [],
   "source": [
    "# Prédiction\n",
    "import numpy as np\n",
    "import sys\n",
    "\n",
    "def predict(bn, data, var_target, show_progress=False):\n",
    "    \"\"\"\n",
    "    This function is used to predict the posterior probability of a target variable from observations\n",
    "    using a bayesian network model.\n",
    "\n",
    "    Inputs:\n",
    "    - =bn=: the predictive model given as a =pyAgrum.BayesNet= object\n",
    "    - =data=: the data containing the observations used to predict the target variable\n",
    "    as a =pandas.DataFrame= object\n",
    "    - =var_target=: the name of the target variable as a =str= object\n",
    "\n",
    "    Returns:\n",
    "    - a =DataFrame= containing the posterior probability distribution of the target\n",
    "    variable given each observation in =data=.\n",
    "    \"\"\"\n",
    "    # Initialize the inference engine\n",
    "    inf_bn = gum.LazyPropagation(bn)\n",
    "    inf_bn.setTargets({var_target})\n",
    "    nb_data = len(data)\n",
    "    target_size = bn.variable(var_target).domainSize()\n",
    "    target_dom = np.array([bn.variable(var_target).label(i)\n",
    "                           for i in range(target_size)])\n",
    "    data_records = data.to_dict(\"records\")\n",
    "    post_prob = np.zeros((nb_data, target_size))\n",
    "    for i in range(nb_data):\n",
    "        # Set the evidence\n",
    "        inf_bn.setEvidence(data_records[i])\n",
    "        # Run inference\n",
    "        inf_bn.makeInference()\n",
    "        # Compute posterior probability of target variable\n",
    "        post_prob[i, :] = inf_bn.posterior(var_target).toarray()\n",
    "        # Erase evidence\n",
    "        inf_bn.eraseAllEvidence()\n",
    "        if show_progress:\n",
    "            sys.stdout.write(\"predict progress: {0:3.0%}\\r\".format(i/nb_data))\n",
    "\n",
    "    post_prob_df = pd.DataFrame(post_prob,\n",
    "                                index=data.index,\n",
    "                                columns=bn.variable(var_target).labels())\n",
    "    post_prob_df.columns.name = var_target\n",
    "    return post_prob_df"
   ]
  },
  {
   "cell_type": "code",
   "execution_count": 20,
   "metadata": {},
   "outputs": [
    {
     "name": "stdout",
     "output_type": "stream",
     "text": [
      "<class 'pandas.core.frame.DataFrame'>\n",
      "Index: 405246 entries, 402189 to 121958\n",
      "Data columns (total 15 columns):\n",
      " #   Column         Non-Null Count   Dtype  \n",
      "---  ------         --------------   -----  \n",
      " 0   OT_ID          405246 non-null  object \n",
      " 1   ODR_ID         405246 non-null  object \n",
      " 2   ODR_LIBELLE    405246 non-null  object \n",
      " 3   TYPE_TRAVAIL   405246 non-null  object \n",
      " 4   DUREE_TRAVAIL  405246 non-null  float64\n",
      " 5   SYSTEM_N1      405246 non-null  object \n",
      " 6   SYSTEM_N2      405246 non-null  object \n",
      " 7   SYSTEM_N3      405246 non-null  object \n",
      " 8   EQU_ID         405246 non-null  object \n",
      " 9   DATE_OT        405246 non-null  object \n",
      " 10  KILOMETRAGE    405246 non-null  float64\n",
      " 11  SIG_ORGANE     405246 non-null  object \n",
      " 12  SIG_CONTEXTE   405246 non-null  object \n",
      " 13  SIG_OBS        405246 non-null  object \n",
      " 14  LIGNE          405246 non-null  object \n",
      "dtypes: float64(2), object(13)\n",
      "memory usage: 49.5+ MB\n",
      "<class 'pandas.core.frame.DataFrame'>\n",
      "Index: 405246 entries, 402189 to 121958\n",
      "Data columns (total 15 columns):\n",
      " #   Column         Non-Null Count   Dtype   \n",
      "---  ------         --------------   -----   \n",
      " 0   OT_ID          405246 non-null  object  \n",
      " 1   ODR_ID         405246 non-null  object  \n",
      " 2   ODR_LIBELLE    405246 non-null  category\n",
      " 3   TYPE_TRAVAIL   405246 non-null  category\n",
      " 4   DUREE_TRAVAIL  405246 non-null  float64 \n",
      " 5   SYSTEM_N1      405246 non-null  category\n",
      " 6   SYSTEM_N2      405246 non-null  category\n",
      " 7   SYSTEM_N3      405246 non-null  category\n",
      " 8   EQU_ID         405246 non-null  object  \n",
      " 9   DATE_OT        405246 non-null  object  \n",
      " 10  KILOMETRAGE    405246 non-null  float64 \n",
      " 11  SIG_ORGANE     405246 non-null  category\n",
      " 12  SIG_CONTEXTE   405246 non-null  category\n",
      " 13  SIG_OBS        405246 non-null  category\n",
      " 14  LIGNE          405246 non-null  category\n",
      "dtypes: category(9), float64(2), object(4)\n",
      "memory usage: 26.9+ MB\n"
     ]
    }
   ],
   "source": [
    "var_cat = ['ODR_LIBELLE', 'TYPE_TRAVAIL',\n",
    "           'SYSTEM_N1', 'SYSTEM_N2', 'SYSTEM_N3', \n",
    "           'SIG_ORGANE', 'SIG_CONTEXTE', 'SIG_OBS', 'LIGNE']\n",
    "train_df.info()\n",
    "for var in var_cat:\n",
    "    train_df[var] = train_df[var].astype('category')\n",
    "\n",
    "train_df.info()"
   ]
  },
  {
   "cell_type": "code",
   "execution_count": 21,
   "metadata": {},
   "outputs": [],
   "source": [
    "import pyAgrum as gum\n",
    "import pyAgrum.lib.notebook as gnb"
   ]
  },
  {
   "cell_type": "code",
   "execution_count": 22,
   "metadata": {},
   "outputs": [
    {
     "data": {
      "text/html": [
       "<svg xmlns=\"http://www.w3.org/2000/svg\" xmlns:xlink=\"http://www.w3.org/1999/xlink\" width=\"260pt\" height=\"116pt\" viewBox=\"0.00 0.00 260.03 116.00\">\n",
       "<g id=\"graph0\" class=\"graph\" transform=\"scale(1 1) rotate(0) translate(4 112)\">\n",
       "<title>G</title>\n",
       "<!-- SIG_ORGANE -->\n",
       "<g id=\"node1\" class=\"node\">\n",
       "<title>SIG_ORGANE</title>\n",
       "<g id=\"a_node1\"><a xlink:title=\"(1) SIG_ORGANE\">\n",
       "<ellipse fill=\"#404040\" stroke=\"#4a4a4a\" cx=\"68.75\" cy=\"-18\" rx=\"68.75\" ry=\"18\"/>\n",
       "<text text-anchor=\"middle\" x=\"68.75\" y=\"-12.95\" font-family=\"Times,serif\" font-size=\"14.00\" fill=\"white\">SIG_ORGANE</text>\n",
       "</a>\n",
       "</g>\n",
       "</g>\n",
       "<!-- SIG_OBS -->\n",
       "<g id=\"node2\" class=\"node\">\n",
       "<title>SIG_OBS</title>\n",
       "<g id=\"a_node2\"><a xlink:title=\"(2) SIG_OBS\">\n",
       "<ellipse fill=\"#404040\" stroke=\"#4a4a4a\" cx=\"203.75\" cy=\"-18\" rx=\"48.28\" ry=\"18\"/>\n",
       "<text text-anchor=\"middle\" x=\"203.75\" y=\"-12.95\" font-family=\"Times,serif\" font-size=\"14.00\" fill=\"white\">SIG_OBS</text>\n",
       "</a>\n",
       "</g>\n",
       "</g>\n",
       "<!-- SYSTEM_N2 -->\n",
       "<g id=\"node3\" class=\"node\">\n",
       "<title>SYSTEM_N2</title>\n",
       "<g id=\"a_node3\"><a xlink:title=\"(0) SYSTEM_N2\">\n",
       "<ellipse fill=\"#404040\" stroke=\"#4a4a4a\" cx=\"135.75\" cy=\"-90\" rx=\"63.63\" ry=\"18\"/>\n",
       "<text text-anchor=\"middle\" x=\"135.75\" y=\"-84.95\" font-family=\"Times,serif\" font-size=\"14.00\" fill=\"white\">SYSTEM_N2</text>\n",
       "</a>\n",
       "</g>\n",
       "</g>\n",
       "<!-- SYSTEM_N2&#45;&gt;SIG_ORGANE -->\n",
       "<g id=\"edge1\" class=\"edge\">\n",
       "<title>SYSTEM_N2-&gt;SIG_ORGANE</title>\n",
       "<g id=\"a_edge1\"><a xlink:title=\"0 → 1\">\n",
       "<path fill=\"none\" stroke=\"#4a4a4a\" d=\"M119.87,-72.41C111.82,-63.99 101.86,-53.58 92.87,-44.2\"/>\n",
       "<polygon fill=\"#4a4a4a\" stroke=\"#4a4a4a\" points=\"95.47,-41.85 86.03,-37.05 90.42,-46.69 95.47,-41.85\"/>\n",
       "</a>\n",
       "</g>\n",
       "</g>\n",
       "<!-- SYSTEM_N2&#45;&gt;SIG_OBS -->\n",
       "<g id=\"edge2\" class=\"edge\">\n",
       "<title>SYSTEM_N2-&gt;SIG_OBS</title>\n",
       "<g id=\"a_edge2\"><a xlink:title=\"0 → 2\">\n",
       "<path fill=\"none\" stroke=\"#4a4a4a\" d=\"M151.87,-72.41C160.25,-63.78 170.66,-53.06 179.96,-43.5\"/>\n",
       "<polygon fill=\"#4a4a4a\" stroke=\"#4a4a4a\" points=\"182.24,-46.17 186.7,-36.56 177.22,-41.29 182.24,-46.17\"/>\n",
       "</a>\n",
       "</g>\n",
       "</g>\n",
       "</g>\n",
       "</svg>"
      ],
      "text/plain": [
       "(pyAgrum.BayesNet<double>@0x11bb9d400) BN{nodes: 3, arcs: 2, domainSize: 307980, dim: 7829, mem: 61Ko 896o}"
      ]
     },
     "execution_count": 22,
     "metadata": {},
     "output_type": "execute_result"
    }
   ],
   "source": [
    "var_to_model = [\n",
    "    'SYSTEM_N2',\n",
    "    'SIG_ORGANE',\n",
    "    'SIG_OBS'\n",
    "]\n",
    "\n",
    "var_bn = {}\n",
    "for var in var_to_model:\n",
    "    nb_values = len(train_df[var].cat.categories)\n",
    "    var_bn[var] = gum.LabelizedVariable(var, var, nb_values)\n",
    "\n",
    "for var in var_bn:\n",
    "    for i, modalite in enumerate(train_df[var].cat.categories):\n",
    "        var_bn[var].changeLabel(i, modalite)\n",
    "\n",
    "# Create the Bayesian Network\n",
    "bn_etud = gum.BayesNet(\"modèle\")\n",
    "\n",
    "# Add the variables to the network\n",
    "for var in var_bn.values():\n",
    "    bn_etud.add(var)\n",
    "\n",
    "# Define the structure by adding arcs\n",
    "bn_etud.addArc(\"SYSTEM_N2\", \"SIG_OBS\")\n",
    "bn_etud.addArc(\"SYSTEM_N2\", \"SIG_ORGANE\")\n",
    "\n",
    "# Inspect the network structure\n",
    "bn_etud\n"
   ]
  },
  {
   "cell_type": "code",
   "execution_count": 23,
   "metadata": {},
   "outputs": [
    {
     "data": {
      "text/plain": [
       "(pyAgrum.BNLearner<double>@0x11bbac800) Filename       : /var/folders/0n/w3wkfc7s0l3_nwgc61jgkn_h0000gn/T/tmpy7zegxyl.csv\n",
       "Size           : (506558,3)\n",
       "Variables      : SYSTEM_N2[45], SIG_ORGANE[116], SIG_OBS[59]\n",
       "Induced types  : True\n",
       "Missing values : False\n",
       "Algorithm      : MIIC\n",
       "Score          : BDeu  (Not used for constraint-based algorithms)\n",
       "Correction     : MDL  (Not used for score-based algorithms)\n",
       "Prior          : -"
      ]
     },
     "execution_count": 23,
     "metadata": {},
     "output_type": "execute_result"
    }
   ],
   "source": [
    "learner = gum.BNLearner(ot_odr_df[var_to_model])\n",
    "learner.fitParameters(bn_etud)"
   ]
  },
  {
   "cell_type": "code",
   "execution_count": 24,
   "metadata": {},
   "outputs": [],
   "source": [
    "bn_ie = gum.LazyPropagation(bn_etud)"
   ]
  },
  {
   "cell_type": "code",
   "execution_count": 25,
   "metadata": {},
   "outputs": [],
   "source": [
    "bn_ie.makeInference()"
   ]
  },
  {
   "cell_type": "code",
   "execution_count": 31,
   "metadata": {},
   "outputs": [],
   "source": [
    "var_cat = ['ODR_LIBELLE', 'TYPE_TRAVAIL',\n",
    "           'SYSTEM_N1', 'SYSTEM_N2', 'SYSTEM_N3', \n",
    "           'SIG_ORGANE', 'SIG_CONTEXTE', 'SIG_OBS', 'LIGNE']\n",
    "for var in var_cat:\n",
    "    test_df[var] = test_df[var].astype('category')"
   ]
  },
  {
   "cell_type": "code",
   "execution_count": 32,
   "metadata": {},
   "outputs": [
    {
     "name": "stdout",
     "output_type": "stream",
     "text": [
      "predict progress: 100%\r"
     ]
    }
   ],
   "source": [
    "pred_prob = predict(bn_etud, data=test_df[[\"SIG_OBS\", \"SIG_ORGANE\"]].iloc[-1000:],\n",
    "                    var_target=\"SYSTEM_N2\", show_progress=True)\n",
    "\n",
    "pred_var = pred_prob.idxmax(axis=1).rename(\"pred\")"
   ]
  },
  {
   "cell_type": "code",
   "execution_count": 37,
   "metadata": {},
   "outputs": [
    {
     "data": {
      "text/plain": [
       "0.819"
      ]
     },
     "execution_count": 37,
     "metadata": {},
     "output_type": "execute_result"
    }
   ],
   "source": [
    "test_series = test_df[\"SYSTEM_N2\"]\n",
    "pred_series = pred_var\n",
    "\n",
    "test_series = test_series.reindex(pred_series.index)\n",
    "\n",
    "comparison_result = (test_series == pred_series).mean()\n",
    "comparison_result"
   ]
  }
 ],
 "metadata": {
  "kernelspec": {
   "display_name": "projet",
   "language": "python",
   "name": "python3"
  },
  "language_info": {
   "codemirror_mode": {
    "name": "ipython",
    "version": 3
   },
   "file_extension": ".py",
   "mimetype": "text/x-python",
   "name": "python",
   "nbconvert_exporter": "python",
   "pygments_lexer": "ipython3",
   "version": "3.9.6"
  },
  "orig_nbformat": 4,
  "vscode": {
   "interpreter": {
    "hash": "f40dcc1bf655bcbdcbc22101e014a611c471d4b517e71358bbb690060e27e1b0"
   }
  }
 },
 "nbformat": 4,
 "nbformat_minor": 2
}
